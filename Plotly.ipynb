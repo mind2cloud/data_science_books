{
  "nbformat": 4,
  "nbformat_minor": 0,
  "metadata": {
    "colab": {
      "name": "Plotly.ipynb",
      "provenance": []
    },
    "kernelspec": {
      "name": "python3",
      "display_name": "Python 3"
    },
    "language_info": {
      "name": "python"
    }
  },
  "cells": [
    {
      "cell_type": "markdown",
      "metadata": {
        "id": "_5oT0b7stuNY"
      },
      "source": [
        "# Plotly\n",
        "Разбор статьи: https://python.ivan-shamaev.ru/interactive-data-visualization-in-python-3/"
      ]
    },
    {
      "cell_type": "code",
      "metadata": {
        "colab": {
          "base_uri": "https://localhost:8080/"
        },
        "id": "_e9UY7YUumw2",
        "outputId": "72546800-abe6-40e1-86b8-ab51a0da04c9"
      },
      "source": [
        "!pip install plotly"
      ],
      "execution_count": 10,
      "outputs": [
        {
          "output_type": "stream",
          "text": [
            "Requirement already satisfied: plotly in /usr/local/lib/python3.7/dist-packages (4.4.1)\n",
            "Requirement already satisfied: retrying>=1.3.3 in /usr/local/lib/python3.7/dist-packages (from plotly) (1.3.3)\n",
            "Requirement already satisfied: six in /usr/local/lib/python3.7/dist-packages (from plotly) (1.15.0)\n"
          ],
          "name": "stdout"
        }
      ]
    },
    {
      "cell_type": "code",
      "metadata": {
        "colab": {
          "base_uri": "https://localhost:8080/",
          "height": 17
        },
        "id": "vdjLQWP5tkR_",
        "outputId": "fe5559d7-120b-4483-a850-d20b3e03af1e"
      },
      "source": [
        "# Standard plotly imports\n",
        "import plotly as py\n",
        "import plotly.graph_objs as go\n",
        "from plotly.offline import iplot, init_notebook_mode\n",
        "# Using plotly + cufflinks in offline mode\n",
        "import cufflinks\n",
        "cufflinks.go_offline(connected=True)\n",
        "init_notebook_mode(connected=True)\n",
        "\n",
        "# Data science imports\n",
        "import pandas as pd\n",
        "import numpy as np"
      ],
      "execution_count": 11,
      "outputs": [
        {
          "output_type": "display_data",
          "data": {
            "text/html": [
              "        <script type=\"text/javascript\">\n",
              "        window.PlotlyConfig = {MathJaxConfig: 'local'};\n",
              "        if (window.MathJax) {MathJax.Hub.Config({SVG: {font: \"STIX-Web\"}});}\n",
              "        if (typeof require !== 'undefined') {\n",
              "        require.undef(\"plotly\");\n",
              "        requirejs.config({\n",
              "            paths: {\n",
              "                'plotly': ['https://cdn.plot.ly/plotly-latest.min']\n",
              "            }\n",
              "        });\n",
              "        require(['plotly'], function(Plotly) {\n",
              "            window._Plotly = Plotly;\n",
              "        });\n",
              "        }\n",
              "        </script>\n",
              "        "
            ]
          },
          "metadata": {
            "tags": []
          }
        },
        {
          "output_type": "display_data",
          "data": {
            "text/html": [
              "        <script type=\"text/javascript\">\n",
              "        window.PlotlyConfig = {MathJaxConfig: 'local'};\n",
              "        if (window.MathJax) {MathJax.Hub.Config({SVG: {font: \"STIX-Web\"}});}\n",
              "        if (typeof require !== 'undefined') {\n",
              "        require.undef(\"plotly\");\n",
              "        requirejs.config({\n",
              "            paths: {\n",
              "                'plotly': ['https://cdn.plot.ly/plotly-latest.min']\n",
              "            }\n",
              "        });\n",
              "        require(['plotly'], function(Plotly) {\n",
              "            window._Plotly = Plotly;\n",
              "        });\n",
              "        }\n",
              "        </script>\n",
              "        "
            ]
          },
          "metadata": {
            "tags": []
          }
        }
      ]
    },
    {
      "cell_type": "code",
      "metadata": {
        "colab": {
          "base_uri": "https://localhost:8080/",
          "height": 598
        },
        "id": "y1Dyg7NFtr9_",
        "outputId": "24224e74-63b0-4bf3-bf3a-444cecd04aeb"
      },
      "source": [
        "df = pd.read_parquet('medium_data_2019_01_06')\n",
        "df.head()"
      ],
      "execution_count": 12,
      "outputs": [
        {
          "output_type": "execute_result",
          "data": {
            "text/html": [
              "<div>\n",
              "<style scoped>\n",
              "    .dataframe tbody tr th:only-of-type {\n",
              "        vertical-align: middle;\n",
              "    }\n",
              "\n",
              "    .dataframe tbody tr th {\n",
              "        vertical-align: top;\n",
              "    }\n",
              "\n",
              "    .dataframe thead th {\n",
              "        text-align: right;\n",
              "    }\n",
              "</style>\n",
              "<table border=\"1\" class=\"dataframe\">\n",
              "  <thead>\n",
              "    <tr style=\"text-align: right;\">\n",
              "      <th></th>\n",
              "      <th>claps</th>\n",
              "      <th>days_since_publication</th>\n",
              "      <th>fans</th>\n",
              "      <th>num_responses</th>\n",
              "      <th>publication</th>\n",
              "      <th>published_date</th>\n",
              "      <th>read_ratio</th>\n",
              "      <th>read_time</th>\n",
              "      <th>reads</th>\n",
              "      <th>started_date</th>\n",
              "      <th>tags</th>\n",
              "      <th>text</th>\n",
              "      <th>title</th>\n",
              "      <th>title_word_count</th>\n",
              "      <th>type</th>\n",
              "      <th>views</th>\n",
              "      <th>word_count</th>\n",
              "      <th>claps_per_word</th>\n",
              "      <th>editing_days</th>\n",
              "      <th>&lt;tag&gt;Education</th>\n",
              "      <th>&lt;tag&gt;Data Science</th>\n",
              "      <th>&lt;tag&gt;Towards Data Science</th>\n",
              "      <th>&lt;tag&gt;Machine Learning</th>\n",
              "      <th>&lt;tag&gt;Python</th>\n",
              "    </tr>\n",
              "  </thead>\n",
              "  <tbody>\n",
              "    <tr>\n",
              "      <th>121</th>\n",
              "      <td>2</td>\n",
              "      <td>574.742788</td>\n",
              "      <td>2</td>\n",
              "      <td>0</td>\n",
              "      <td>None</td>\n",
              "      <td>2017-06-10 14:25:00</td>\n",
              "      <td>41.98</td>\n",
              "      <td>7</td>\n",
              "      <td>68</td>\n",
              "      <td>2017-06-10 14:24:00</td>\n",
              "      <td>[Climate Change, Economics]</td>\n",
              "      <td>Screw the Environment, but Consider Your Walle...</td>\n",
              "      <td>Screw the Environment, but Consider Your Wallet</td>\n",
              "      <td>8</td>\n",
              "      <td>published</td>\n",
              "      <td>162</td>\n",
              "      <td>1859</td>\n",
              "      <td>0.001076</td>\n",
              "      <td>0</td>\n",
              "      <td>0</td>\n",
              "      <td>0</td>\n",
              "      <td>0</td>\n",
              "      <td>0</td>\n",
              "      <td>0</td>\n",
              "    </tr>\n",
              "    <tr>\n",
              "      <th>122</th>\n",
              "      <td>18</td>\n",
              "      <td>567.424835</td>\n",
              "      <td>3</td>\n",
              "      <td>0</td>\n",
              "      <td>None</td>\n",
              "      <td>2017-06-17 22:02:00</td>\n",
              "      <td>32.93</td>\n",
              "      <td>14</td>\n",
              "      <td>54</td>\n",
              "      <td>2017-06-17 22:02:00</td>\n",
              "      <td>[Climate Change, Humanity, Optimism, History]</td>\n",
              "      <td>The Vanquishing of War, Plague and Famine Part...</td>\n",
              "      <td>The Vanquishing of War, Plague and Famine</td>\n",
              "      <td>8</td>\n",
              "      <td>published</td>\n",
              "      <td>164</td>\n",
              "      <td>3891</td>\n",
              "      <td>0.004626</td>\n",
              "      <td>0</td>\n",
              "      <td>0</td>\n",
              "      <td>0</td>\n",
              "      <td>0</td>\n",
              "      <td>0</td>\n",
              "      <td>0</td>\n",
              "    </tr>\n",
              "    <tr>\n",
              "      <th>123</th>\n",
              "      <td>50</td>\n",
              "      <td>554.804959</td>\n",
              "      <td>19</td>\n",
              "      <td>0</td>\n",
              "      <td>None</td>\n",
              "      <td>2017-06-30 12:55:00</td>\n",
              "      <td>20.19</td>\n",
              "      <td>42</td>\n",
              "      <td>215</td>\n",
              "      <td>2017-06-30 12:00:00</td>\n",
              "      <td>[Machine Learning, Python, Udacity, Kaggle]</td>\n",
              "      <td>Capstone Project: Mercedes-Benz Greener Manufa...</td>\n",
              "      <td>Capstone Project: Mercedes-Benz Greener Manufa...</td>\n",
              "      <td>7</td>\n",
              "      <td>published</td>\n",
              "      <td>1065</td>\n",
              "      <td>12025</td>\n",
              "      <td>0.004158</td>\n",
              "      <td>0</td>\n",
              "      <td>0</td>\n",
              "      <td>0</td>\n",
              "      <td>0</td>\n",
              "      <td>1</td>\n",
              "      <td>1</td>\n",
              "    </tr>\n",
              "    <tr>\n",
              "      <th>119</th>\n",
              "      <td>0</td>\n",
              "      <td>553.962351</td>\n",
              "      <td>0</td>\n",
              "      <td>0</td>\n",
              "      <td>None</td>\n",
              "      <td>2017-07-01 09:08:00</td>\n",
              "      <td>35.85</td>\n",
              "      <td>9</td>\n",
              "      <td>19</td>\n",
              "      <td>2017-06-30 18:21:00</td>\n",
              "      <td>[Politics, Books, News, Media Criticism]</td>\n",
              "      <td>Home of the Scared A review of A Culture of Fe...</td>\n",
              "      <td>Home of the Scared</td>\n",
              "      <td>4</td>\n",
              "      <td>published</td>\n",
              "      <td>53</td>\n",
              "      <td>2533</td>\n",
              "      <td>0.000000</td>\n",
              "      <td>0</td>\n",
              "      <td>0</td>\n",
              "      <td>0</td>\n",
              "      <td>0</td>\n",
              "      <td>0</td>\n",
              "      <td>0</td>\n",
              "    </tr>\n",
              "    <tr>\n",
              "      <th>116</th>\n",
              "      <td>0</td>\n",
              "      <td>549.974700</td>\n",
              "      <td>0</td>\n",
              "      <td>0</td>\n",
              "      <td>None</td>\n",
              "      <td>2017-07-05 08:51:00</td>\n",
              "      <td>8.77</td>\n",
              "      <td>14</td>\n",
              "      <td>5</td>\n",
              "      <td>2017-07-03 20:18:00</td>\n",
              "      <td>[Books, Psychology, History, Humanism]</td>\n",
              "      <td>The Triumph of Peace A review of The Better An...</td>\n",
              "      <td>The Triumph of Peace</td>\n",
              "      <td>4</td>\n",
              "      <td>published</td>\n",
              "      <td>57</td>\n",
              "      <td>3892</td>\n",
              "      <td>0.000000</td>\n",
              "      <td>1</td>\n",
              "      <td>0</td>\n",
              "      <td>0</td>\n",
              "      <td>0</td>\n",
              "      <td>0</td>\n",
              "      <td>0</td>\n",
              "    </tr>\n",
              "  </tbody>\n",
              "</table>\n",
              "</div>"
            ],
            "text/plain": [
              "     claps  days_since_publication  ...  <tag>Machine Learning  <tag>Python\n",
              "121      2              574.742788  ...                      0            0\n",
              "122     18              567.424835  ...                      0            0\n",
              "123     50              554.804959  ...                      1            1\n",
              "119      0              553.962351  ...                      0            0\n",
              "116      0              549.974700  ...                      0            0\n",
              "\n",
              "[5 rows x 24 columns]"
            ]
          },
          "metadata": {
            "tags": []
          },
          "execution_count": 12
        }
      ]
    },
    {
      "cell_type": "code",
      "metadata": {
        "id": "ZHrcEUb3wk_v"
      },
      "source": [
        "df['claps'].iplot(kind='hist', xTitle='claps',\n",
        "                  yTitle='count', title='Claps Distribution')\n",
        "py.offline.plot()"
      ],
      "execution_count": null,
      "outputs": []
    }
  ]
}