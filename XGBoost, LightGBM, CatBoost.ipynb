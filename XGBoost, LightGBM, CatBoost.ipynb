{
  "nbformat": 4,
  "nbformat_minor": 0,
  "metadata": {
    "colab": {
      "name": "XGBoost, LightGBM, CatBoost.ipynb",
      "provenance": []
    },
    "kernelspec": {
      "name": "python3",
      "display_name": "Python 3"
    },
    "language_info": {
      "name": "python"
    }
  },
  "cells": [
    {
      "cell_type": "markdown",
      "metadata": {
        "id": "EhTos0dAO7eH"
      },
      "source": [
        "# 1. XGBoost"
      ]
    },
    {
      "cell_type": "code",
      "metadata": {
        "id": "JZltxoRbO18g"
      },
      "source": [
        "from sklearn import datasets\n",
        "import xgboost as xgb"
      ],
      "execution_count": 1,
      "outputs": []
    },
    {
      "cell_type": "code",
      "metadata": {
        "id": "QV9W8tsWX2qc"
      },
      "source": [
        "iris = datasets.load_iris()\n",
        "X = iris.data\n",
        "y = iris.target"
      ],
      "execution_count": 27,
      "outputs": []
    },
    {
      "cell_type": "code",
      "metadata": {
        "id": "3ZzUZDyRX_Hl"
      },
      "source": [
        "from sklearn.model_selection import train_test_split\n",
        "\n",
        "X_train, X_test, Y_train, Y_test = train_test_split(X, y, test_size=0.3)"
      ],
      "execution_count": 29,
      "outputs": []
    },
    {
      "cell_type": "code",
      "metadata": {
        "id": "77gNZAmsYFBa"
      },
      "source": [
        "D_train = xgb.DMatrix(X_train, label=Y_train)\n",
        "D_test = xgb.DMatrix(X_test, label=Y_test)"
      ],
      "execution_count": 30,
      "outputs": []
    },
    {
      "cell_type": "code",
      "metadata": {
        "id": "8lBwJsqTYJ-G"
      },
      "source": [
        "param = {\n",
        "    'eta': 0.3, \n",
        "    'max_depth': 3,  \n",
        "    'objective': 'multi:softprob',  \n",
        "    'num_class': 3} \n",
        "\n",
        "steps = 20  # The number of training iterations"
      ],
      "execution_count": 31,
      "outputs": []
    },
    {
      "cell_type": "code",
      "metadata": {
        "id": "nM-6VN0UYYj-"
      },
      "source": [
        "model = xgb.train(param, D_train, steps)"
      ],
      "execution_count": 32,
      "outputs": []
    },
    {
      "cell_type": "code",
      "metadata": {
        "colab": {
          "base_uri": "https://localhost:8080/"
        },
        "id": "V6blFH3oYjCB",
        "outputId": "fe655486-962e-478d-8be2-8d21fb16adfb"
      },
      "source": [
        "import numpy as np\n",
        "from sklearn.metrics import precision_score, recall_score, accuracy_score\n",
        "\n",
        "preds = model.predict(D_test)\n",
        "best_preds = np.asarray([np.argmax(line) for line in preds])\n",
        "\n",
        "print(\"Precision = {}\".format(precision_score(Y_test, best_preds, average='macro')))\n",
        "print(\"Recall = {}\".format(recall_score(Y_test, best_preds, average='macro')))\n",
        "print(\"Accuracy = {}\".format(accuracy_score(Y_test, best_preds)))"
      ],
      "execution_count": 33,
      "outputs": [
        {
          "output_type": "stream",
          "name": "stdout",
          "text": [
            "Precision = 0.9399509803921569\n",
            "Recall = 0.9399509803921569\n",
            "Accuracy = 0.9333333333333333\n"
          ]
        }
      ]
    },
    {
      "cell_type": "code",
      "metadata": {
        "colab": {
          "base_uri": "https://localhost:8080/"
        },
        "id": "5yIIY4FEYx_o",
        "outputId": "42adb093-8f11-4d7d-be9b-6a717b18e2cb"
      },
      "source": [
        "from sklearn.model_selection import GridSearchCV\n",
        "\n",
        "clf = xgb.XGBClassifier()\n",
        "parameters = {\n",
        "     \"eta\"    : [0.05, 0.10, 0.15, 0.20, 0.25, 0.30 ] ,\n",
        "     \"max_depth\"        : [ 3, 4, 5, 6, 8, 10, 12, 15],\n",
        "     \"min_child_weight\" : [ 1, 3, 5, 7 ],\n",
        "     \"gamma\"            : [ 0.0, 0.1, 0.2 , 0.3, 0.4 ],\n",
        "     \"colsample_bytree\" : [ 0.3, 0.4, 0.5 , 0.7 ]\n",
        "     }\n",
        "\n",
        "grid = GridSearchCV(clf,\n",
        "                    parameters, n_jobs=4,\n",
        "                    scoring=\"neg_log_loss\",\n",
        "                    cv=3)\n",
        "\n",
        "grid.fit(X_train, Y_train)"
      ],
      "execution_count": 34,
      "outputs": [
        {
          "output_type": "execute_result",
          "data": {
            "text/plain": [
              "GridSearchCV(cv=3, error_score=nan,\n",
              "             estimator=XGBClassifier(base_score=0.5, booster='gbtree',\n",
              "                                     colsample_bylevel=1, colsample_bynode=1,\n",
              "                                     colsample_bytree=1, gamma=0,\n",
              "                                     learning_rate=0.1, max_delta_step=0,\n",
              "                                     max_depth=3, min_child_weight=1,\n",
              "                                     missing=None, n_estimators=100, n_jobs=1,\n",
              "                                     nthread=None, objective='binary:logistic',\n",
              "                                     random_state=0, reg_alpha=0, reg_lambda=1,\n",
              "                                     scale_po...ight=1, seed=None, silent=None,\n",
              "                                     subsample=1, verbosity=1),\n",
              "             iid='deprecated', n_jobs=4,\n",
              "             param_grid={'colsample_bytree': [0.3, 0.4, 0.5, 0.7],\n",
              "                         'eta': [0.05, 0.1, 0.15, 0.2, 0.25, 0.3],\n",
              "                         'gamma': [0.0, 0.1, 0.2, 0.3, 0.4],\n",
              "                         'max_depth': [3, 4, 5, 6, 8, 10, 12, 15],\n",
              "                         'min_child_weight': [1, 3, 5, 7]},\n",
              "             pre_dispatch='2*n_jobs', refit=True, return_train_score=False,\n",
              "             scoring='neg_log_loss', verbose=0)"
            ]
          },
          "metadata": {},
          "execution_count": 34
        }
      ]
    },
    {
      "cell_type": "code",
      "metadata": {
        "id": "-9Tt_bNBY7Uo"
      },
      "source": [
        "model.dump_model('dump.raw.txt')"
      ],
      "execution_count": 9,
      "outputs": []
    },
    {
      "cell_type": "markdown",
      "metadata": {
        "id": "QafIAEVa0iQl"
      },
      "source": [
        "Source Code from YouTube Video: https://www.youtube.com/watch?v=TyvYZ26alZs"
      ]
    },
    {
      "cell_type": "code",
      "metadata": {
        "id": "qIeo_Y1p0jd1"
      },
      "source": [
        "import pandas as pd\n",
        "import numpy as np\n",
        "import sklearn\n",
        "from sklearn.ensemble import RandomForestRegressor\n",
        "from sklearn.model_selection import train_test_split\n",
        "from sklearn.metrics import mean_squared_error\n",
        "import xgboost as xgb\n",
        "from xgboost import XGBClassifier, plot_tree\n",
        "from sklearn.metrics import accuracy_score\n",
        "import matplotlib.pyplot as plt\n",
        "from sklearn.tree import export_graphviz"
      ],
      "execution_count": 37,
      "outputs": []
    },
    {
      "cell_type": "code",
      "metadata": {
        "id": "Lj8wckDD0lDK"
      },
      "source": [
        "mnist = pd.read_csv(\"mnist_train_small.csv\")\n",
        "mnist.head()\n",
        "x = mnist[mnist.columns.difference([\"value\"])]\n",
        "y = mnist[\"value\"]\n",
        "x_train_val, x_test, y_train_val, y_test = train_test_split(x, y, test_size=0.3)\n",
        "x_train, x_val, y_train, y_val = train_test_split(x_train_val, y_train_val, test_size=0.3)\n"
      ],
      "execution_count": 38,
      "outputs": []
    },
    {
      "cell_type": "code",
      "metadata": {
        "colab": {
          "base_uri": "https://localhost:8080/"
        },
        "id": "qcKOKeke0mXz",
        "outputId": "4b271e4e-1561-45eb-ae58-6b3000076b23"
      },
      "source": [
        "model = RandomForestRegressor(50, max_depth=15, max_features=15)\n",
        "model.fit(x_train, y_train)\n",
        "print(model.score(x_val, y_val))"
      ],
      "execution_count": 39,
      "outputs": [
        {
          "output_type": "stream",
          "name": "stdout",
          "text": [
            "0.7928490550873102\n"
          ]
        }
      ]
    },
    {
      "cell_type": "code",
      "metadata": {
        "colab": {
          "base_uri": "https://localhost:8080/"
        },
        "id": "qDNciYH-0njU",
        "outputId": "69bb8daa-dbd6-4451-cb7a-b476d29b2770"
      },
      "source": [
        "model2 = XGBClassifier(objective='multiclass:softmax', learning_rate = 0.1,\n",
        "              max_depth = 1, n_estimators = 330)\n",
        "model2.fit(x_train, y_train)\n",
        "preds = model2.predict(x_test)\n",
        "print(sum(preds==y_test)/len(y_test))"
      ],
      "execution_count": 40,
      "outputs": [
        {
          "output_type": "stream",
          "name": "stdout",
          "text": [
            "0.8683333333333333\n"
          ]
        }
      ]
    },
    {
      "cell_type": "code",
      "metadata": {
        "colab": {
          "base_uri": "https://localhost:8080/",
          "height": 170
        },
        "id": "WyHkD7kd0n5i",
        "outputId": "0eb9e79c-042d-4399-c84e-9914ba215223"
      },
      "source": [
        "plot_tree(model2._Booster, num_trees=3)"
      ],
      "execution_count": 41,
      "outputs": [
        {
          "output_type": "execute_result",
          "data": {
            "text/plain": [
              "<matplotlib.axes._subplots.AxesSubplot at 0x7f87bb42ac90>"
            ]
          },
          "metadata": {},
          "execution_count": 41
        },
        {
          "output_type": "display_data",
          "data": {
            "image/png": "[encoded data removed]",
            "text/plain": [
              "<Figure size 432x288 with 1 Axes>"
            ]
          },
          "metadata": {
            "needs_background": "light"
          }
        }
      ]
    },
    {
      "cell_type": "markdown",
      "metadata": {
        "id": "-uionMC72foG"
      },
      "source": [
        "Source Code from the TechCave Guide: https://techcave.ru/posts/81-sozdaem-pervuyu-xgboost-model-na-python-s-ispolzovaniem-scikit-learn.html"
      ]
    },
    {
      "cell_type": "code",
      "metadata": {
        "id": "Ew8fLuP53jIF"
      },
      "source": [
        "from sklearn.model_selection import cross_validate"
      ],
      "execution_count": 15,
      "outputs": []
    },
    {
      "cell_type": "code",
      "metadata": {
        "id": "tDzLHHVC2pA-"
      },
      "source": [
        "# load data\n",
        "dataset = np.loadtxt('pima-indians-diabetes.csv', delimiter=\",\")"
      ],
      "execution_count": 16,
      "outputs": []
    },
    {
      "cell_type": "code",
      "metadata": {
        "id": "1oBzx4NN3lvm"
      },
      "source": [
        "# split data into X and y\n",
        "X = dataset[:,0:8]\n",
        "Y = dataset[:,8]"
      ],
      "execution_count": 17,
      "outputs": []
    },
    {
      "cell_type": "code",
      "metadata": {
        "id": "t9J6KIyn3qnQ"
      },
      "source": [
        "# split data into train and test sets\n",
        "seed = 7\n",
        "test_size = 0.33\n",
        "X_train, X_test, y_train, y_test = train_test_split(X, Y, test_size=test_size, random_state=seed)"
      ],
      "execution_count": 18,
      "outputs": []
    },
    {
      "cell_type": "code",
      "metadata": {
        "colab": {
          "base_uri": "https://localhost:8080/"
        },
        "id": "EE5DftYj3rf2",
        "outputId": "713d4e58-c036-4bb7-8583-3ca16611a983"
      },
      "source": [
        "# fit model no training data\n",
        "model = xgb.XGBClassifier()\n",
        "model.fit(X_train, y_train)"
      ],
      "execution_count": 19,
      "outputs": [
        {
          "output_type": "execute_result",
          "data": {
            "text/plain": [
              "XGBClassifier(base_score=0.5, booster='gbtree', colsample_bylevel=1,\n",
              "              colsample_bynode=1, colsample_bytree=1, gamma=0,\n",
              "              learning_rate=0.1, max_delta_step=0, max_depth=3,\n",
              "              min_child_weight=1, missing=None, n_estimators=100, n_jobs=1,\n",
              "              nthread=None, objective='binary:logistic', random_state=0,\n",
              "              reg_alpha=0, reg_lambda=1, scale_pos_weight=1, seed=None,\n",
              "              silent=None, subsample=1, verbosity=1)"
            ]
          },
          "metadata": {},
          "execution_count": 19
        }
      ]
    },
    {
      "cell_type": "code",
      "metadata": {
        "colab": {
          "base_uri": "https://localhost:8080/"
        },
        "id": "ZLGB_TwN3umW",
        "outputId": "541ca8f1-4e69-4562-9367-22f60483936d"
      },
      "source": [
        "print(model)"
      ],
      "execution_count": 20,
      "outputs": [
        {
          "output_type": "stream",
          "name": "stdout",
          "text": [
            "XGBClassifier(base_score=0.5, booster='gbtree', colsample_bylevel=1,\n",
            "              colsample_bynode=1, colsample_bytree=1, gamma=0,\n",
            "              learning_rate=0.1, max_delta_step=0, max_depth=3,\n",
            "              min_child_weight=1, missing=None, n_estimators=100, n_jobs=1,\n",
            "              nthread=None, objective='binary:logistic', random_state=0,\n",
            "              reg_alpha=0, reg_lambda=1, scale_pos_weight=1, seed=None,\n",
            "              silent=None, subsample=1, verbosity=1)\n"
          ]
        }
      ]
    },
    {
      "cell_type": "code",
      "metadata": {
        "id": "IxX-_lQW3wTg"
      },
      "source": [
        "# make predictions for test data\n",
        "y_pred = model.predict(X_test)\n",
        "predictions = [round(value) for value in y_pred]"
      ],
      "execution_count": 21,
      "outputs": []
    },
    {
      "cell_type": "code",
      "metadata": {
        "colab": {
          "base_uri": "https://localhost:8080/"
        },
        "id": "ALLzrEg03x0-",
        "outputId": "3b9c43e8-8e98-40c0-9254-db045ebc440c"
      },
      "source": [
        "# evaluate predictions\n",
        "accuracy = accuracy_score(y_test, predictions)\n",
        "print(\"Accuracy: %.2f%%\" % (accuracy * 100.0))"
      ],
      "execution_count": 22,
      "outputs": [
        {
          "output_type": "stream",
          "name": "stdout",
          "text": [
            "Accuracy: 77.95%\n"
          ]
        }
      ]
    },
    {
      "cell_type": "markdown",
      "metadata": {
        "id": "sPz2OYOxDE1Y"
      },
      "source": [
        "# 2. LightGBM\n",
        "Source Code from PythonRu: https://pythonru.com/biblioteki/lightgbm"
      ]
    },
    {
      "cell_type": "code",
      "metadata": {
        "colab": {
          "base_uri": "https://localhost:8080/"
        },
        "id": "IyHUzT0xDODC",
        "outputId": "69d2a525-2829-459a-c1c5-9adf6110328f"
      },
      "source": [
        "import pandas as pd\n",
        "import numpy as np\n",
        "import matplotlib.pyplot as plt\n",
        "import lightgbm as lgb\n",
        "import sklearn\n",
        "\n",
        "import warnings\n",
        "warnings.filterwarnings(\"ignore\")\n",
        "\n",
        "print(\"Версия LightGBM      : \", lgb.__version__)\n",
        "print(\"Версия Scikit-Learn  : \", sklearn.__version__)"
      ],
      "execution_count": 42,
      "outputs": [
        {
          "output_type": "stream",
          "name": "stdout",
          "text": [
            "Версия LightGBM      :  2.2.3\n",
            "Версия Scikit-Learn  :  0.22.2.post1\n"
          ]
        }
      ]
    },
    {
      "cell_type": "code",
      "metadata": {
        "colab": {
          "base_uri": "https://localhost:8080/",
          "height": 636
        },
        "id": "KuOW4Be1Dns9",
        "outputId": "832c93f3-db6b-4c92-edf3-83561ebb5170"
      },
      "source": [
        "#Boston Housing Dataset\n",
        "from sklearn.datasets import load_boston\n",
        "\n",
        "boston = load_boston()\n",
        "\n",
        "for line in boston.DESCR.split(\"\\n\")[5:29]:\n",
        "    print(line)\n",
        "\n",
        "boston_df = pd.DataFrame(data=boston.data, columns = boston.feature_names)\n",
        "boston_df[\"Price\"] = boston.target\n",
        "\n",
        "boston_df.head()"
      ],
      "execution_count": 43,
      "outputs": [
        {
          "output_type": "stream",
          "name": "stdout",
          "text": [
            "**Data Set Characteristics:**  \n",
            "\n",
            "    :Number of Instances: 506 \n",
            "\n",
            "    :Number of Attributes: 13 numeric/categorical predictive. Median Value (attribute 14) is usually the target.\n",
            "\n",
            "    :Attribute Information (in order):\n",
            "        - CRIM     per capita crime rate by town\n",
            "        - ZN       proportion of residential land zoned for lots over 25,000 sq.ft.\n",
            "        - INDUS    proportion of non-retail business acres per town\n",
            "        - CHAS     Charles River dummy variable (= 1 if tract bounds river; 0 otherwise)\n",
            "        - NOX      nitric oxides concentration (parts per 10 million)\n",
            "        - RM       average number of rooms per dwelling\n",
            "        - AGE      proportion of owner-occupied units built prior to 1940\n",
            "        - DIS      weighted distances to five Boston employment centres\n",
            "        - RAD      index of accessibility to radial highways\n",
            "        - TAX      full-value property-tax rate per $10,000\n",
            "        - PTRATIO  pupil-teacher ratio by town\n",
            "        - B        1000(Bk - 0.63)^2 where Bk is the proportion of blacks by town\n",
            "        - LSTAT    % lower status of the population\n",
            "        - MEDV     Median value of owner-occupied homes in $1000's\n",
            "\n",
            "    :Missing Attribute Values: None\n",
            "\n"
          ]
        },
        {
          "output_type": "execute_result",
          "data": {
            "text/html": [
              "<div>\n",
              "<style scoped>\n",
              "    .dataframe tbody tr th:only-of-type {\n",
              "        vertical-align: middle;\n",
              "    }\n",
              "\n",
              "    .dataframe tbody tr th {\n",
              "        vertical-align: top;\n",
              "    }\n",
              "\n",
              "    .dataframe thead th {\n",
              "        text-align: right;\n",
              "    }\n",
              "</style>\n",
              "<table border=\"1\" class=\"dataframe\">\n",
              "  <thead>\n",
              "    <tr style=\"text-align: right;\">\n",
              "      <th></th>\n",
              "      <th>CRIM</th>\n",
              "      <th>ZN</th>\n",
              "      <th>INDUS</th>\n",
              "      <th>CHAS</th>\n",
              "      <th>NOX</th>\n",
              "      <th>RM</th>\n",
              "      <th>AGE</th>\n",
              "      <th>DIS</th>\n",
              "      <th>RAD</th>\n",
              "      <th>TAX</th>\n",
              "      <th>PTRATIO</th>\n",
              "      <th>B</th>\n",
              "      <th>LSTAT</th>\n",
              "      <th>Price</th>\n",
              "    </tr>\n",
              "  </thead>\n",
              "  <tbody>\n",
              "    <tr>\n",
              "      <th>0</th>\n",
              "      <td>0.00632</td>\n",
              "      <td>18.0</td>\n",
              "      <td>2.31</td>\n",
              "      <td>0.0</td>\n",
              "      <td>0.538</td>\n",
              "      <td>6.575</td>\n",
              "      <td>65.2</td>\n",
              "      <td>4.0900</td>\n",
              "      <td>1.0</td>\n",
              "      <td>296.0</td>\n",
              "      <td>15.3</td>\n",
              "      <td>396.90</td>\n",
              "      <td>4.98</td>\n",
              "      <td>24.0</td>\n",
              "    </tr>\n",
              "    <tr>\n",
              "      <th>1</th>\n",
              "      <td>0.02731</td>\n",
              "      <td>0.0</td>\n",
              "      <td>7.07</td>\n",
              "      <td>0.0</td>\n",
              "      <td>0.469</td>\n",
              "      <td>6.421</td>\n",
              "      <td>78.9</td>\n",
              "      <td>4.9671</td>\n",
              "      <td>2.0</td>\n",
              "      <td>242.0</td>\n",
              "      <td>17.8</td>\n",
              "      <td>396.90</td>\n",
              "      <td>9.14</td>\n",
              "      <td>21.6</td>\n",
              "    </tr>\n",
              "    <tr>\n",
              "      <th>2</th>\n",
              "      <td>0.02729</td>\n",
              "      <td>0.0</td>\n",
              "      <td>7.07</td>\n",
              "      <td>0.0</td>\n",
              "      <td>0.469</td>\n",
              "      <td>7.185</td>\n",
              "      <td>61.1</td>\n",
              "      <td>4.9671</td>\n",
              "      <td>2.0</td>\n",
              "      <td>242.0</td>\n",
              "      <td>17.8</td>\n",
              "      <td>392.83</td>\n",
              "      <td>4.03</td>\n",
              "      <td>34.7</td>\n",
              "    </tr>\n",
              "    <tr>\n",
              "      <th>3</th>\n",
              "      <td>0.03237</td>\n",
              "      <td>0.0</td>\n",
              "      <td>2.18</td>\n",
              "      <td>0.0</td>\n",
              "      <td>0.458</td>\n",
              "      <td>6.998</td>\n",
              "      <td>45.8</td>\n",
              "      <td>6.0622</td>\n",
              "      <td>3.0</td>\n",
              "      <td>222.0</td>\n",
              "      <td>18.7</td>\n",
              "      <td>394.63</td>\n",
              "      <td>2.94</td>\n",
              "      <td>33.4</td>\n",
              "    </tr>\n",
              "    <tr>\n",
              "      <th>4</th>\n",
              "      <td>0.06905</td>\n",
              "      <td>0.0</td>\n",
              "      <td>2.18</td>\n",
              "      <td>0.0</td>\n",
              "      <td>0.458</td>\n",
              "      <td>7.147</td>\n",
              "      <td>54.2</td>\n",
              "      <td>6.0622</td>\n",
              "      <td>3.0</td>\n",
              "      <td>222.0</td>\n",
              "      <td>18.7</td>\n",
              "      <td>396.90</td>\n",
              "      <td>5.33</td>\n",
              "      <td>36.2</td>\n",
              "    </tr>\n",
              "  </tbody>\n",
              "</table>\n",
              "</div>"
            ],
            "text/plain": [
              "      CRIM    ZN  INDUS  CHAS    NOX  ...    TAX  PTRATIO       B  LSTAT  Price\n",
              "0  0.00632  18.0   2.31   0.0  0.538  ...  296.0     15.3  396.90   4.98   24.0\n",
              "1  0.02731   0.0   7.07   0.0  0.469  ...  242.0     17.8  396.90   9.14   21.6\n",
              "2  0.02729   0.0   7.07   0.0  0.469  ...  242.0     17.8  392.83   4.03   34.7\n",
              "3  0.03237   0.0   2.18   0.0  0.458  ...  222.0     18.7  394.63   2.94   33.4\n",
              "4  0.06905   0.0   2.18   0.0  0.458  ...  222.0     18.7  396.90   5.33   36.2\n",
              "\n",
              "[5 rows x 14 columns]"
            ]
          },
          "metadata": {},
          "execution_count": 43
        }
      ]
    },
    {
      "cell_type": "code",
      "metadata": {
        "colab": {
          "base_uri": "https://localhost:8080/",
          "height": 726
        },
        "id": "YDIjIPLZDy-T",
        "outputId": "62829a89-c2fd-4991-9a27-273f7ade0acb"
      },
      "source": [
        "#Breast Cancer Dataset\n",
        "from sklearn.datasets import load_breast_cancer\n",
        "\n",
        "breast_cancer = load_breast_cancer()\n",
        "\n",
        "for line in breast_cancer.DESCR.split(\"\\n\")[5:31]:\n",
        "    print(line)\n",
        "\n",
        "breast_cancer_df = pd.DataFrame(data=breast_cancer.data, columns = breast_cancer.feature_names)\n",
        "breast_cancer_df[\"TumorType\"] = breast_cancer.target\n",
        "\n",
        "breast_cancer_df.head()"
      ],
      "execution_count": 44,
      "outputs": [
        {
          "output_type": "stream",
          "name": "stdout",
          "text": [
            "**Data Set Characteristics:**\n",
            "\n",
            "    :Number of Instances: 569\n",
            "\n",
            "    :Number of Attributes: 30 numeric, predictive attributes and the class\n",
            "\n",
            "    :Attribute Information:\n",
            "        - radius (mean of distances from center to points on the perimeter)\n",
            "        - texture (standard deviation of gray-scale values)\n",
            "        - perimeter\n",
            "        - area\n",
            "        - smoothness (local variation in radius lengths)\n",
            "        - compactness (perimeter^2 / area - 1.0)\n",
            "        - concavity (severity of concave portions of the contour)\n",
            "        - concave points (number of concave portions of the contour)\n",
            "        - symmetry \n",
            "        - fractal dimension (\"coastline approximation\" - 1)\n",
            "\n",
            "        The mean, standard error, and \"worst\" or largest (mean of the three\n",
            "        largest values) of these features were computed for each image,\n",
            "        resulting in 30 features.  For instance, field 3 is Mean Radius, field\n",
            "        13 is Radius SE, field 23 is Worst Radius.\n",
            "\n",
            "        - class:\n",
            "                - WDBC-Malignant\n",
            "                - WDBC-Benign\n"
          ]
        },
        {
          "output_type": "execute_result",
          "data": {
            "text/html": [
              "<div>\n",
              "<style scoped>\n",
              "    .dataframe tbody tr th:only-of-type {\n",
              "        vertical-align: middle;\n",
              "    }\n",
              "\n",
              "    .dataframe tbody tr th {\n",
              "        vertical-align: top;\n",
              "    }\n",
              "\n",
              "    .dataframe thead th {\n",
              "        text-align: right;\n",
              "    }\n",
              "</style>\n",
              "<table border=\"1\" class=\"dataframe\">\n",
              "  <thead>\n",
              "    <tr style=\"text-align: right;\">\n",
              "      <th></th>\n",
              "      <th>mean radius</th>\n",
              "      <th>mean texture</th>\n",
              "      <th>mean perimeter</th>\n",
              "      <th>mean area</th>\n",
              "      <th>mean smoothness</th>\n",
              "      <th>mean compactness</th>\n",
              "      <th>mean concavity</th>\n",
              "      <th>mean concave points</th>\n",
              "      <th>mean symmetry</th>\n",
              "      <th>mean fractal dimension</th>\n",
              "      <th>radius error</th>\n",
              "      <th>texture error</th>\n",
              "      <th>perimeter error</th>\n",
              "      <th>area error</th>\n",
              "      <th>smoothness error</th>\n",
              "      <th>compactness error</th>\n",
              "      <th>concavity error</th>\n",
              "      <th>concave points error</th>\n",
              "      <th>symmetry error</th>\n",
              "      <th>fractal dimension error</th>\n",
              "      <th>worst radius</th>\n",
              "      <th>worst texture</th>\n",
              "      <th>worst perimeter</th>\n",
              "      <th>worst area</th>\n",
              "      <th>worst smoothness</th>\n",
              "      <th>worst compactness</th>\n",
              "      <th>worst concavity</th>\n",
              "      <th>worst concave points</th>\n",
              "      <th>worst symmetry</th>\n",
              "      <th>worst fractal dimension</th>\n",
              "      <th>TumorType</th>\n",
              "    </tr>\n",
              "  </thead>\n",
              "  <tbody>\n",
              "    <tr>\n",
              "      <th>0</th>\n",
              "      <td>17.99</td>\n",
              "      <td>10.38</td>\n",
              "      <td>122.80</td>\n",
              "      <td>1001.0</td>\n",
              "      <td>0.11840</td>\n",
              "      <td>0.27760</td>\n",
              "      <td>0.3001</td>\n",
              "      <td>0.14710</td>\n",
              "      <td>0.2419</td>\n",
              "      <td>0.07871</td>\n",
              "      <td>1.0950</td>\n",
              "      <td>0.9053</td>\n",
              "      <td>8.589</td>\n",
              "      <td>153.40</td>\n",
              "      <td>0.006399</td>\n",
              "      <td>0.04904</td>\n",
              "      <td>0.05373</td>\n",
              "      <td>0.01587</td>\n",
              "      <td>0.03003</td>\n",
              "      <td>0.006193</td>\n",
              "      <td>25.38</td>\n",
              "      <td>17.33</td>\n",
              "      <td>184.60</td>\n",
              "      <td>2019.0</td>\n",
              "      <td>0.1622</td>\n",
              "      <td>0.6656</td>\n",
              "      <td>0.7119</td>\n",
              "      <td>0.2654</td>\n",
              "      <td>0.4601</td>\n",
              "      <td>0.11890</td>\n",
              "      <td>0</td>\n",
              "    </tr>\n",
              "    <tr>\n",
              "      <th>1</th>\n",
              "      <td>20.57</td>\n",
              "      <td>17.77</td>\n",
              "      <td>132.90</td>\n",
              "      <td>1326.0</td>\n",
              "      <td>0.08474</td>\n",
              "      <td>0.07864</td>\n",
              "      <td>0.0869</td>\n",
              "      <td>0.07017</td>\n",
              "      <td>0.1812</td>\n",
              "      <td>0.05667</td>\n",
              "      <td>0.5435</td>\n",
              "      <td>0.7339</td>\n",
              "      <td>3.398</td>\n",
              "      <td>74.08</td>\n",
              "      <td>0.005225</td>\n",
              "      <td>0.01308</td>\n",
              "      <td>0.01860</td>\n",
              "      <td>0.01340</td>\n",
              "      <td>0.01389</td>\n",
              "      <td>0.003532</td>\n",
              "      <td>24.99</td>\n",
              "      <td>23.41</td>\n",
              "      <td>158.80</td>\n",
              "      <td>1956.0</td>\n",
              "      <td>0.1238</td>\n",
              "      <td>0.1866</td>\n",
              "      <td>0.2416</td>\n",
              "      <td>0.1860</td>\n",
              "      <td>0.2750</td>\n",
              "      <td>0.08902</td>\n",
              "      <td>0</td>\n",
              "    </tr>\n",
              "    <tr>\n",
              "      <th>2</th>\n",
              "      <td>19.69</td>\n",
              "      <td>21.25</td>\n",
              "      <td>130.00</td>\n",
              "      <td>1203.0</td>\n",
              "      <td>0.10960</td>\n",
              "      <td>0.15990</td>\n",
              "      <td>0.1974</td>\n",
              "      <td>0.12790</td>\n",
              "      <td>0.2069</td>\n",
              "      <td>0.05999</td>\n",
              "      <td>0.7456</td>\n",
              "      <td>0.7869</td>\n",
              "      <td>4.585</td>\n",
              "      <td>94.03</td>\n",
              "      <td>0.006150</td>\n",
              "      <td>0.04006</td>\n",
              "      <td>0.03832</td>\n",
              "      <td>0.02058</td>\n",
              "      <td>0.02250</td>\n",
              "      <td>0.004571</td>\n",
              "      <td>23.57</td>\n",
              "      <td>25.53</td>\n",
              "      <td>152.50</td>\n",
              "      <td>1709.0</td>\n",
              "      <td>0.1444</td>\n",
              "      <td>0.4245</td>\n",
              "      <td>0.4504</td>\n",
              "      <td>0.2430</td>\n",
              "      <td>0.3613</td>\n",
              "      <td>0.08758</td>\n",
              "      <td>0</td>\n",
              "    </tr>\n",
              "    <tr>\n",
              "      <th>3</th>\n",
              "      <td>11.42</td>\n",
              "      <td>20.38</td>\n",
              "      <td>77.58</td>\n",
              "      <td>386.1</td>\n",
              "      <td>0.14250</td>\n",
              "      <td>0.28390</td>\n",
              "      <td>0.2414</td>\n",
              "      <td>0.10520</td>\n",
              "      <td>0.2597</td>\n",
              "      <td>0.09744</td>\n",
              "      <td>0.4956</td>\n",
              "      <td>1.1560</td>\n",
              "      <td>3.445</td>\n",
              "      <td>27.23</td>\n",
              "      <td>0.009110</td>\n",
              "      <td>0.07458</td>\n",
              "      <td>0.05661</td>\n",
              "      <td>0.01867</td>\n",
              "      <td>0.05963</td>\n",
              "      <td>0.009208</td>\n",
              "      <td>14.91</td>\n",
              "      <td>26.50</td>\n",
              "      <td>98.87</td>\n",
              "      <td>567.7</td>\n",
              "      <td>0.2098</td>\n",
              "      <td>0.8663</td>\n",
              "      <td>0.6869</td>\n",
              "      <td>0.2575</td>\n",
              "      <td>0.6638</td>\n",
              "      <td>0.17300</td>\n",
              "      <td>0</td>\n",
              "    </tr>\n",
              "    <tr>\n",
              "      <th>4</th>\n",
              "      <td>20.29</td>\n",
              "      <td>14.34</td>\n",
              "      <td>135.10</td>\n",
              "      <td>1297.0</td>\n",
              "      <td>0.10030</td>\n",
              "      <td>0.13280</td>\n",
              "      <td>0.1980</td>\n",
              "      <td>0.10430</td>\n",
              "      <td>0.1809</td>\n",
              "      <td>0.05883</td>\n",
              "      <td>0.7572</td>\n",
              "      <td>0.7813</td>\n",
              "      <td>5.438</td>\n",
              "      <td>94.44</td>\n",
              "      <td>0.011490</td>\n",
              "      <td>0.02461</td>\n",
              "      <td>0.05688</td>\n",
              "      <td>0.01885</td>\n",
              "      <td>0.01756</td>\n",
              "      <td>0.005115</td>\n",
              "      <td>22.54</td>\n",
              "      <td>16.67</td>\n",
              "      <td>152.20</td>\n",
              "      <td>1575.0</td>\n",
              "      <td>0.1374</td>\n",
              "      <td>0.2050</td>\n",
              "      <td>0.4000</td>\n",
              "      <td>0.1625</td>\n",
              "      <td>0.2364</td>\n",
              "      <td>0.07678</td>\n",
              "      <td>0</td>\n",
              "    </tr>\n",
              "  </tbody>\n",
              "</table>\n",
              "</div>"
            ],
            "text/plain": [
              "   mean radius  mean texture  ...  worst fractal dimension  TumorType\n",
              "0        17.99         10.38  ...                  0.11890          0\n",
              "1        20.57         17.77  ...                  0.08902          0\n",
              "2        19.69         21.25  ...                  0.08758          0\n",
              "3        11.42         20.38  ...                  0.17300          0\n",
              "4        20.29         14.34  ...                  0.07678          0\n",
              "\n",
              "[5 rows x 31 columns]"
            ]
          },
          "metadata": {},
          "execution_count": 44
        }
      ]
    },
    {
      "cell_type": "code",
      "metadata": {
        "colab": {
          "base_uri": "https://localhost:8080/",
          "height": 656
        },
        "id": "hJokJ-9kD1om",
        "outputId": "546a29c4-3b77-4119-b5a3-9bc7d7186c63"
      },
      "source": [
        "#Wine Dataset\n",
        "from sklearn.datasets import load_wine\n",
        "\n",
        "wine = load_wine()\n",
        "\n",
        "for line in wine.DESCR.split(\"\\n\")[5:29]:\n",
        "    print(line)\n",
        "\n",
        "wine_df = pd.DataFrame(data=wine.data, columns = wine.feature_names)\n",
        "wine_df[\"WineType\"] = wine.target\n",
        "\n",
        "wine_df.head()"
      ],
      "execution_count": 45,
      "outputs": [
        {
          "output_type": "stream",
          "name": "stdout",
          "text": [
            "**Data Set Characteristics:**\n",
            "\n",
            "    :Number of Instances: 178 (50 in each of three classes)\n",
            "    :Number of Attributes: 13 numeric, predictive attributes and the class\n",
            "    :Attribute Information:\n",
            " \t\t- Alcohol\n",
            " \t\t- Malic acid\n",
            " \t\t- Ash\n",
            "\t\t- Alcalinity of ash  \n",
            " \t\t- Magnesium\n",
            "\t\t- Total phenols\n",
            " \t\t- Flavanoids\n",
            " \t\t- Nonflavanoid phenols\n",
            " \t\t- Proanthocyanins\n",
            "\t\t- Color intensity\n",
            " \t\t- Hue\n",
            " \t\t- OD280/OD315 of diluted wines\n",
            " \t\t- Proline\n",
            "\n",
            "    - class:\n",
            "            - class_0\n",
            "            - class_1\n",
            "            - class_2\n",
            "\t\t\n"
          ]
        },
        {
          "output_type": "execute_result",
          "data": {
            "text/html": [
              "<div>\n",
              "<style scoped>\n",
              "    .dataframe tbody tr th:only-of-type {\n",
              "        vertical-align: middle;\n",
              "    }\n",
              "\n",
              "    .dataframe tbody tr th {\n",
              "        vertical-align: top;\n",
              "    }\n",
              "\n",
              "    .dataframe thead th {\n",
              "        text-align: right;\n",
              "    }\n",
              "</style>\n",
              "<table border=\"1\" class=\"dataframe\">\n",
              "  <thead>\n",
              "    <tr style=\"text-align: right;\">\n",
              "      <th></th>\n",
              "      <th>alcohol</th>\n",
              "      <th>malic_acid</th>\n",
              "      <th>ash</th>\n",
              "      <th>alcalinity_of_ash</th>\n",
              "      <th>magnesium</th>\n",
              "      <th>total_phenols</th>\n",
              "      <th>flavanoids</th>\n",
              "      <th>nonflavanoid_phenols</th>\n",
              "      <th>proanthocyanins</th>\n",
              "      <th>color_intensity</th>\n",
              "      <th>hue</th>\n",
              "      <th>od280/od315_of_diluted_wines</th>\n",
              "      <th>proline</th>\n",
              "      <th>WineType</th>\n",
              "    </tr>\n",
              "  </thead>\n",
              "  <tbody>\n",
              "    <tr>\n",
              "      <th>0</th>\n",
              "      <td>14.23</td>\n",
              "      <td>1.71</td>\n",
              "      <td>2.43</td>\n",
              "      <td>15.6</td>\n",
              "      <td>127.0</td>\n",
              "      <td>2.80</td>\n",
              "      <td>3.06</td>\n",
              "      <td>0.28</td>\n",
              "      <td>2.29</td>\n",
              "      <td>5.64</td>\n",
              "      <td>1.04</td>\n",
              "      <td>3.92</td>\n",
              "      <td>1065.0</td>\n",
              "      <td>0</td>\n",
              "    </tr>\n",
              "    <tr>\n",
              "      <th>1</th>\n",
              "      <td>13.20</td>\n",
              "      <td>1.78</td>\n",
              "      <td>2.14</td>\n",
              "      <td>11.2</td>\n",
              "      <td>100.0</td>\n",
              "      <td>2.65</td>\n",
              "      <td>2.76</td>\n",
              "      <td>0.26</td>\n",
              "      <td>1.28</td>\n",
              "      <td>4.38</td>\n",
              "      <td>1.05</td>\n",
              "      <td>3.40</td>\n",
              "      <td>1050.0</td>\n",
              "      <td>0</td>\n",
              "    </tr>\n",
              "    <tr>\n",
              "      <th>2</th>\n",
              "      <td>13.16</td>\n",
              "      <td>2.36</td>\n",
              "      <td>2.67</td>\n",
              "      <td>18.6</td>\n",
              "      <td>101.0</td>\n",
              "      <td>2.80</td>\n",
              "      <td>3.24</td>\n",
              "      <td>0.30</td>\n",
              "      <td>2.81</td>\n",
              "      <td>5.68</td>\n",
              "      <td>1.03</td>\n",
              "      <td>3.17</td>\n",
              "      <td>1185.0</td>\n",
              "      <td>0</td>\n",
              "    </tr>\n",
              "    <tr>\n",
              "      <th>3</th>\n",
              "      <td>14.37</td>\n",
              "      <td>1.95</td>\n",
              "      <td>2.50</td>\n",
              "      <td>16.8</td>\n",
              "      <td>113.0</td>\n",
              "      <td>3.85</td>\n",
              "      <td>3.49</td>\n",
              "      <td>0.24</td>\n",
              "      <td>2.18</td>\n",
              "      <td>7.80</td>\n",
              "      <td>0.86</td>\n",
              "      <td>3.45</td>\n",
              "      <td>1480.0</td>\n",
              "      <td>0</td>\n",
              "    </tr>\n",
              "    <tr>\n",
              "      <th>4</th>\n",
              "      <td>13.24</td>\n",
              "      <td>2.59</td>\n",
              "      <td>2.87</td>\n",
              "      <td>21.0</td>\n",
              "      <td>118.0</td>\n",
              "      <td>2.80</td>\n",
              "      <td>2.69</td>\n",
              "      <td>0.39</td>\n",
              "      <td>1.82</td>\n",
              "      <td>4.32</td>\n",
              "      <td>1.04</td>\n",
              "      <td>2.93</td>\n",
              "      <td>735.0</td>\n",
              "      <td>0</td>\n",
              "    </tr>\n",
              "  </tbody>\n",
              "</table>\n",
              "</div>"
            ],
            "text/plain": [
              "   alcohol  malic_acid   ash  ...  od280/od315_of_diluted_wines  proline  WineType\n",
              "0    14.23        1.71  2.43  ...                          3.92   1065.0         0\n",
              "1    13.20        1.78  2.14  ...                          3.40   1050.0         0\n",
              "2    13.16        2.36  2.67  ...                          3.17   1185.0         0\n",
              "3    14.37        1.95  2.50  ...                          3.45   1480.0         0\n",
              "4    13.24        2.59  2.87  ...                          2.93    735.0         0\n",
              "\n",
              "[5 rows x 14 columns]"
            ]
          },
          "metadata": {},
          "execution_count": 45
        }
      ]
    },
    {
      "cell_type": "markdown",
      "metadata": {
        "id": "tQ9pI33VFqaE"
      },
      "source": [
        "2.1.1 Regression"
      ]
    },
    {
      "cell_type": "code",
      "metadata": {
        "colab": {
          "base_uri": "https://localhost:8080/"
        },
        "id": "z2rtu6FoE0mF",
        "outputId": "aedffab1-9deb-4d74-a485-b4e5df512e98"
      },
      "source": [
        "from sklearn.model_selection import train_test_split\n",
        "\n",
        "X_train, X_test, Y_train, Y_test = train_test_split(boston.data, boston.target)\n",
        "\n",
        "print(\"Размеры Train/Test: \", X_train.shape, X_test.shape, Y_train.shape, Y_test.shape)\n",
        "\n",
        "train_dataset = lgb.Dataset(X_train, Y_train, feature_name=boston.feature_names.tolist())\n",
        "test_dataset = lgb.Dataset(X_test, Y_test, feature_name=boston.feature_names.tolist())\n",
        "\n",
        "booster = lgb.train({\"objective\": \"regression\"},\n",
        "                    train_set=train_dataset, valid_sets=(test_dataset,),\n",
        "                    num_boost_round=10)"
      ],
      "execution_count": 54,
      "outputs": [
        {
          "output_type": "stream",
          "name": "stdout",
          "text": [
            "Размеры Train/Test:  (379, 13) (127, 13) (379,) (127,)\n",
            "[1]\tvalid_0's l2: 67.3933\n",
            "[2]\tvalid_0's l2: 56.4628\n",
            "[3]\tvalid_0's l2: 47.7123\n",
            "[4]\tvalid_0's l2: 40.8653\n",
            "[5]\tvalid_0's l2: 35.4292\n",
            "[6]\tvalid_0's l2: 31.2415\n",
            "[7]\tvalid_0's l2: 27.566\n",
            "[8]\tvalid_0's l2: 24.5808\n",
            "[9]\tvalid_0's l2: 22.0763\n",
            "[10]\tvalid_0's l2: 19.9336\n"
          ]
        }
      ]
    },
    {
      "cell_type": "code",
      "metadata": {
        "id": "Y-MHurNfIZ3C"
      },
      "source": [
        "test_preds = booster.predict(X_test)\n",
        "train_preds = booster.predict(X_train)\n",
        "\n",
        "test_preds = np.argmax(test_preds, axis=0)\n",
        "train_preds = np.argmax(train_preds, axis=0)\n",
        "\n",
        "print(\"\\nTest Accuracy: %.2f\"%accuracy_score(Y_test, test_preds))\n",
        "print(\"Train Accuracy: %.2f\"%accuracy_score(Y_train, train_preds))"
      ],
      "execution_count": null,
      "outputs": []
    },
    {
      "cell_type": "code",
      "metadata": {
        "colab": {
          "base_uri": "https://localhost:8080/"
        },
        "id": "WtT0uwy0FTXb",
        "outputId": "eeac1eca-c705-4dbf-f335-2a51cec9062f"
      },
      "source": [
        "idxs = booster.predict(X_test, pred_leaf=True)\n",
        "\n",
        "print(\"Размерность: \", idxs.shape)\n",
        "\n",
        "idxs"
      ],
      "execution_count": 47,
      "outputs": [
        {
          "output_type": "stream",
          "name": "stdout",
          "text": [
            "Размерность:  (127, 10)\n"
          ]
        },
        {
          "output_type": "execute_result",
          "data": {
            "text/plain": [
              "array([[10, 10, 11, ..., 12,  6, 12],\n",
              "       [ 8,  9, 10, ...,  5,  8,  5],\n",
              "       [10, 10, 11, ..., 12,  6,  9],\n",
              "       ...,\n",
              "       [ 3,  3,  3, ...,  3,  0,  4],\n",
              "       [ 0,  7,  9, ...,  6,  1,  0],\n",
              "       [ 4,  4,  6, ...,  4,  2,  2]], dtype=int32)"
            ]
          },
          "metadata": {},
          "execution_count": 47
        }
      ]
    },
    {
      "cell_type": "code",
      "metadata": {
        "id": "Xwm31F3oFWjh"
      },
      "source": [
        "shap_vals = booster.predict(X_test, pred_contrib=True)\n",
        "\n",
        "print(\"Размерность: \", shap_vals.shape)\n",
        "\n",
        "print(\"\\nЗначения Shap для нулевого семпла: \", shap_vals[0])\n",
        "print(\"\\nПредсказания с использованием значений SHAP: \", shap_vals[0].sum())\n",
        "print(\"Предсказания без SHAP: \", test_preds[0])"
      ],
      "execution_count": null,
      "outputs": []
    },
    {
      "cell_type": "markdown",
      "metadata": {
        "id": "SxgiH6vbFu5D"
      },
      "source": [
        "2.1.2 Binary Classification"
      ]
    },
    {
      "cell_type": "code",
      "metadata": {
        "colab": {
          "base_uri": "https://localhost:8080/"
        },
        "id": "M3e0afyqF3Yl",
        "outputId": "d7295511-cfa2-4b23-ca4b-d1500afed14a"
      },
      "source": [
        "X_train, X_test, Y_train, Y_test = train_test_split(breast_cancer.data, breast_cancer.target)\n",
        "\n",
        "print(\"Размеры Train/Test: \", X_train.shape, X_test.shape, Y_train.shape, Y_test.shape)\n",
        "\n",
        "train_dataset = lgb.Dataset(X_train, Y_train, feature_name=breast_cancer.feature_names.tolist())\n",
        "test_dataset = lgb.Dataset(X_test, Y_test, feature_name=breast_cancer.feature_names.tolist())\n",
        "\n",
        "\n",
        "booster = lgb.train({\"objective\": \"binary\", \"verbosity\": -1},\n",
        "                    train_set=train_dataset, valid_sets=(test_dataset,),\n",
        "                    num_boost_round=10)\n",
        "\n",
        "from sklearn.metrics import accuracy_score\n",
        "\n",
        "\n",
        "test_preds = booster.predict(X_test)\n",
        "train_preds = booster.predict(X_train)\n",
        "\n",
        "test_preds = [1 if pred > 0.5 else 0 for pred in test_preds]\n",
        "train_preds = [1 if pred > 0.5 else 0 for pred in train_preds]\n",
        "\n",
        "print(\"Test Accuracy: %.2f\"%accuracy_score(Y_test, test_preds))\n",
        "print(\"Train Accuracy: %.2f\"%accuracy_score(Y_train, train_preds))"
      ],
      "execution_count": 49,
      "outputs": [
        {
          "output_type": "stream",
          "name": "stdout",
          "text": [
            "Размеры Train/Test:  (426, 30) (143, 30) (426,) (143,)\n",
            "[1]\tvalid_0's binary_logloss: 0.595162\n",
            "[2]\tvalid_0's binary_logloss: 0.53532\n",
            "[3]\tvalid_0's binary_logloss: 0.487575\n",
            "[4]\tvalid_0's binary_logloss: 0.447168\n",
            "[5]\tvalid_0's binary_logloss: 0.411594\n",
            "[6]\tvalid_0's binary_logloss: 0.382144\n",
            "[7]\tvalid_0's binary_logloss: 0.351517\n",
            "[8]\tvalid_0's binary_logloss: 0.330715\n",
            "[9]\tvalid_0's binary_logloss: 0.307966\n",
            "[10]\tvalid_0's binary_logloss: 0.287682\n",
            "Test Accuracy: 0.92\n",
            "Train Accuracy: 0.97\n"
          ]
        }
      ]
    },
    {
      "cell_type": "markdown",
      "metadata": {
        "id": "Cw7OdII3GJBV"
      },
      "source": [
        "2.1.3 Multiclass Classification"
      ]
    },
    {
      "cell_type": "code",
      "metadata": {
        "colab": {
          "base_uri": "https://localhost:8080/"
        },
        "id": "Yk1DL7XFGHX_",
        "outputId": "5ad291af-b654-4263-8ed9-2023ca7c566c"
      },
      "source": [
        "from sklearn.model_selection import train_test_split\n",
        "\n",
        "X_train, X_test, Y_train, Y_test = train_test_split(wine.data, wine.target)\n",
        "\n",
        "print(\"Размеры Train/Test: \", X_train.shape, X_test.shape, Y_train.shape, Y_test.shape)\n",
        "\n",
        "train_dataset = lgb.Dataset(X_train, Y_train, feature_name=wine.feature_names)\n",
        "test_dataset = lgb.Dataset(X_test, Y_test, feature_name=wine.feature_names)\n",
        "\n",
        "\n",
        "booster = lgb.train({\"objective\": \"multiclass\", \"num_class\": 3, \"verbosity\": -1},\n",
        "                    train_set=train_dataset, valid_sets=(test_dataset,),\n",
        "                    num_boost_round=10)\n",
        "\n",
        "from sklearn.metrics import accuracy_score\n",
        "\n",
        "\n",
        "test_preds = booster.predict(X_test)\n",
        "train_preds = booster.predict(X_train)\n",
        "\n",
        "test_preds = np.argmax(test_preds, axis=1)\n",
        "train_preds = np.argmax(train_preds, axis=1)\n",
        "\n",
        "print(\"\\nTest Accuracy: %.2f\"%accuracy_score(Y_test, test_preds))\n",
        "print(\"Train Accuracy: %.2f\"%accuracy_score(Y_train, train_preds))"
      ],
      "execution_count": 58,
      "outputs": [
        {
          "output_type": "stream",
          "name": "stdout",
          "text": [
            "Размеры Train/Test:  (133, 13) (45, 13) (133,) (45,)\n",
            "[1]\tvalid_0's multi_logloss: 0.984295\n",
            "[2]\tvalid_0's multi_logloss: 0.892239\n",
            "[3]\tvalid_0's multi_logloss: 0.812691\n",
            "[4]\tvalid_0's multi_logloss: 0.744607\n",
            "[5]\tvalid_0's multi_logloss: 0.686938\n",
            "[6]\tvalid_0's multi_logloss: 0.635265\n",
            "[7]\tvalid_0's multi_logloss: 0.588427\n",
            "[8]\tvalid_0's multi_logloss: 0.542424\n",
            "[9]\tvalid_0's multi_logloss: 0.508125\n",
            "[10]\tvalid_0's multi_logloss: 0.468814\n",
            "\n",
            "Test Accuracy: 1.00\n",
            "Train Accuracy: 0.98\n"
          ]
        }
      ]
    },
    {
      "cell_type": "markdown",
      "metadata": {
        "id": "YdmbLkkeJFIe"
      },
      "source": [
        "**LGBMModel**\n",
        "\n",
        "2.2.1 Regression\n"
      ]
    },
    {
      "cell_type": "code",
      "metadata": {
        "colab": {
          "base_uri": "https://localhost:8080/"
        },
        "id": "d2Y2yroUIRTP",
        "outputId": "982236f0-0825-41e1-ef74-5b7df7182675"
      },
      "source": [
        "from sklearn.model_selection import train_test_split\n",
        "\n",
        "X_train, X_test, Y_train, Y_test = train_test_split(boston.data, boston.target)\n",
        "\n",
        "print(\"Размеры Train/Test Sizes: \", X_train.shape, X_test.shape, Y_train.shape, Y_test.shape)\n",
        "\n",
        "booster = lgb.LGBMModel(objective=\"regression\", n_estimators=10)\n",
        "\n",
        "booster.fit(X_train, Y_train, eval_set=[(X_test, Y_test),], eval_metric=\"rmse\")\n",
        "\n",
        "from sklearn.metrics import r2_score\n",
        "\n",
        "test_preds = booster.predict(X_test)\n",
        "train_preds = booster.predict(X_train)\n",
        "\n",
        "print(\"\\nTest  R2 Score: %.2f\"%r2_score(Y_test, test_preds))\n",
        "print(\"Train R2 Score: %.2f\"%r2_score(Y_train, train_preds))"
      ],
      "execution_count": 60,
      "outputs": [
        {
          "output_type": "stream",
          "name": "stdout",
          "text": [
            "Размеры Train/Test Sizes:  (379, 13) (127, 13) (379,) (127,)\n",
            "[1]\tvalid_0's rmse: 8.40383\tvalid_0's l2: 70.6243\n",
            "[2]\tvalid_0's rmse: 7.86678\tvalid_0's l2: 61.8863\n",
            "[3]\tvalid_0's rmse: 7.3933\tvalid_0's l2: 54.6608\n",
            "[4]\tvalid_0's rmse: 6.99569\tvalid_0's l2: 48.9397\n",
            "[5]\tvalid_0's rmse: 6.65659\tvalid_0's l2: 44.3101\n",
            "[6]\tvalid_0's rmse: 6.35359\tvalid_0's l2: 40.3681\n",
            "[7]\tvalid_0's rmse: 6.11303\tvalid_0's l2: 37.3691\n",
            "[8]\tvalid_0's rmse: 5.89904\tvalid_0's l2: 34.7987\n",
            "[9]\tvalid_0's rmse: 5.71849\tvalid_0's l2: 32.7011\n",
            "[10]\tvalid_0's rmse: 5.54449\tvalid_0's l2: 30.7414\n",
            "\n",
            "Test  R2 Score: 0.62\n",
            "Train R2 Score: 0.76\n"
          ]
        }
      ]
    },
    {
      "cell_type": "markdown",
      "metadata": {
        "id": "s6UaEUzcJX9w"
      },
      "source": [
        "2.2.2 Binary Classification"
      ]
    },
    {
      "cell_type": "code",
      "metadata": {
        "colab": {
          "base_uri": "https://localhost:8080/"
        },
        "id": "Lz4tNMsHJCni",
        "outputId": "80adb3bf-5c11-4f6b-a3f9-5793c5462f0f"
      },
      "source": [
        "from sklearn.model_selection import train_test_split\n",
        "\n",
        "X_train, X_test, Y_train, Y_test = train_test_split(boston.data, boston.target)\n",
        "\n",
        "print(\"Размеры Train/Test Sizes: \", X_train.shape, X_test.shape, Y_train.shape, Y_test.shape)\n",
        "\n",
        "booster = lgb.LGBMModel(objective=\"regression\", n_estimators=10)\n",
        "\n",
        "booster.fit(X_train, Y_train, eval_set=[(X_test, Y_test),], eval_metric=\"rmse\")\n",
        "\n",
        "from sklearn.metrics import r2_score\n",
        "\n",
        "test_preds = booster.predict(X_test)\n",
        "train_preds = booster.predict(X_train)\n",
        "\n",
        "print(\"\\nTest  R2 Score: %.2f\"%r2_score(Y_test, test_preds))\n",
        "print(\"Train R2 Score: %.2f\"%r2_score(Y_train, train_preds))"
      ],
      "execution_count": 61,
      "outputs": [
        {
          "output_type": "stream",
          "name": "stdout",
          "text": [
            "Размеры Train/Test Sizes:  (379, 13) (127, 13) (379,) (127,)\n",
            "[1]\tvalid_0's rmse: 8.74257\tvalid_0's l2: 76.4326\n",
            "[2]\tvalid_0's rmse: 8.04338\tvalid_0's l2: 64.6959\n",
            "[3]\tvalid_0's rmse: 7.43814\tvalid_0's l2: 55.326\n",
            "[4]\tvalid_0's rmse: 6.91689\tvalid_0's l2: 47.8434\n",
            "[5]\tvalid_0's rmse: 6.46216\tvalid_0's l2: 41.7595\n",
            "[6]\tvalid_0's rmse: 6.06876\tvalid_0's l2: 36.8298\n",
            "[7]\tvalid_0's rmse: 5.74787\tvalid_0's l2: 33.0381\n",
            "[8]\tvalid_0's rmse: 5.44787\tvalid_0's l2: 29.6792\n",
            "[9]\tvalid_0's rmse: 5.20597\tvalid_0's l2: 27.1021\n",
            "[10]\tvalid_0's rmse: 5.00827\tvalid_0's l2: 25.0828\n",
            "\n",
            "Test  R2 Score: 0.72\n",
            "Train R2 Score: 0.75\n"
          ]
        }
      ]
    },
    {
      "cell_type": "markdown",
      "metadata": {
        "id": "Jh9z7Y2hJbPe"
      },
      "source": [
        "**LGBMRegressor**"
      ]
    },
    {
      "cell_type": "code",
      "metadata": {
        "colab": {
          "base_uri": "https://localhost:8080/"
        },
        "id": "A0JkqHrPJtbj",
        "outputId": "14eeee7b-9310-4a98-c00e-3d657f95f2f5"
      },
      "source": [
        "from sklearn.model_selection import train_test_split\n",
        "\n",
        "X_train, X_test, Y_train, Y_test = train_test_split(boston.data, boston.target)\n",
        "\n",
        "print(\"Размеры Train/Test Sizes: \", X_train.shape, X_test.shape, Y_train.shape, Y_test.shape)\n",
        "\n",
        "booster = lgb.LGBMRegressor(objective=\"regression_l2\", n_estimators=10,)\n",
        "\n",
        "booster.fit(X_train, Y_train, eval_set=[(X_test, Y_test),], eval_metric=[\"rmse\", \"l2\", \"l1\"])\n",
        "\n",
        "print(\"Test  R2 Score: %.2f\"%booster.score(X_train, Y_train))\n",
        "print(\"Train R2 Score: %.2f\"%booster.score(X_test, Y_test))"
      ],
      "execution_count": 62,
      "outputs": [
        {
          "output_type": "stream",
          "name": "stdout",
          "text": [
            "Размеры Train/Test Sizes:  (379, 13) (127, 13) (379,) (127,)\n",
            "[1]\tvalid_0's l2: 57.523\tvalid_0's l2: 57.523\tvalid_0's rmse: 7.58439\tvalid_0's l1: 5.65997\n",
            "[2]\tvalid_0's l2: 50.3825\tvalid_0's l2: 50.3825\tvalid_0's rmse: 7.09806\tvalid_0's l1: 5.27275\n",
            "[3]\tvalid_0's l2: 43.6074\tvalid_0's l2: 43.6074\tvalid_0's rmse: 6.60359\tvalid_0's l1: 4.87778\n",
            "[4]\tvalid_0's l2: 38.736\tvalid_0's l2: 38.736\tvalid_0's rmse: 6.22382\tvalid_0's l1: 4.55725\n",
            "[5]\tvalid_0's l2: 34.1981\tvalid_0's l2: 34.1981\tvalid_0's rmse: 5.84792\tvalid_0's l1: 4.24038\n",
            "[6]\tvalid_0's l2: 30.8559\tvalid_0's l2: 30.8559\tvalid_0's rmse: 5.55481\tvalid_0's l1: 3.97546\n",
            "[7]\tvalid_0's l2: 27.9037\tvalid_0's l2: 27.9037\tvalid_0's rmse: 5.28239\tvalid_0's l1: 3.71507\n",
            "[8]\tvalid_0's l2: 25.6686\tvalid_0's l2: 25.6686\tvalid_0's rmse: 5.06642\tvalid_0's l1: 3.51015\n",
            "[9]\tvalid_0's l2: 23.9645\tvalid_0's l2: 23.9645\tvalid_0's rmse: 4.89536\tvalid_0's l1: 3.35391\n",
            "[10]\tvalid_0's l2: 22.2054\tvalid_0's l2: 22.2054\tvalid_0's rmse: 4.71226\tvalid_0's l1: 3.17231\n",
            "Test  R2 Score: 0.75\n",
            "Train R2 Score: 0.66\n"
          ]
        }
      ]
    },
    {
      "cell_type": "markdown",
      "metadata": {
        "id": "rAzKdAo4J_Mo"
      },
      "source": [
        "**LGBMClassifier**\n",
        "\n",
        "2.3.1 Binary Classification"
      ]
    },
    {
      "cell_type": "code",
      "metadata": {
        "colab": {
          "base_uri": "https://localhost:8080/"
        },
        "id": "rIL2Nif2KA0E",
        "outputId": "1890ea09-32ad-4359-a0ed-113becacf7cc"
      },
      "source": [
        "from sklearn.model_selection import train_test_split\n",
        "\n",
        "X_train, X_test, Y_train, Y_test = train_test_split(breast_cancer.data, breast_cancer.target)\n",
        "booster = lgb.LGBMClassifier(objective=\"binary\", n_estimators=10)\n",
        "booster.fit(X_train, Y_train, eval_set=[(X_test, Y_test),])\n",
        "\n",
        "print(\"Test  Accuracy: %.2f\"%booster.score(X_test, Y_test))\n",
        "print(\"Train Accuracy: %.2f\"%booster.score(X_train, Y_train))"
      ],
      "execution_count": 63,
      "outputs": [
        {
          "output_type": "stream",
          "name": "stdout",
          "text": [
            "[1]\tvalid_0's binary_logloss: 0.575596\n",
            "[2]\tvalid_0's binary_logloss: 0.515173\n",
            "[3]\tvalid_0's binary_logloss: 0.465035\n",
            "[4]\tvalid_0's binary_logloss: 0.422387\n",
            "[5]\tvalid_0's binary_logloss: 0.387316\n",
            "[6]\tvalid_0's binary_logloss: 0.358904\n",
            "[7]\tvalid_0's binary_logloss: 0.331114\n",
            "[8]\tvalid_0's binary_logloss: 0.308851\n",
            "[9]\tvalid_0's binary_logloss: 0.287381\n",
            "[10]\tvalid_0's binary_logloss: 0.267605\n",
            "Test  Accuracy: 0.96\n",
            "Train Accuracy: 0.98\n"
          ]
        }
      ]
    },
    {
      "cell_type": "markdown",
      "metadata": {
        "id": "hzwb5kJKKNta"
      },
      "source": [
        "2.3.2. Multiclass Classification"
      ]
    },
    {
      "cell_type": "code",
      "metadata": {
        "colab": {
          "base_uri": "https://localhost:8080/"
        },
        "id": "CsxROgg2KMa6",
        "outputId": "bda5edff-8b01-4b49-e3b4-55e502462ce3"
      },
      "source": [
        "from sklearn.model_selection import train_test_split\n",
        "\n",
        "X_train, X_test, Y_train, Y_test = train_test_split(wine.data, wine.target)\n",
        "booster = lgb.LGBMClassifier(objective=\"multiclassova\", n_estimators=10, num_class=3)\n",
        "booster.fit(X_train, Y_train, eval_set=[(X_test, Y_test),])\n",
        "\n",
        "print(\"Test  Accuracy: %.2f\"%booster.score(X_test, Y_test))\n",
        "print(\"Train Accuracy: %.2f\"%booster.score(X_train, Y_train))"
      ],
      "execution_count": 64,
      "outputs": [
        {
          "output_type": "stream",
          "name": "stdout",
          "text": [
            "[1]\tvalid_0's multi_logloss: 0.964804\n",
            "[2]\tvalid_0's multi_logloss: 0.863061\n",
            "[3]\tvalid_0's multi_logloss: 0.77882\n",
            "[4]\tvalid_0's multi_logloss: 0.714854\n",
            "[5]\tvalid_0's multi_logloss: 0.660575\n",
            "[6]\tvalid_0's multi_logloss: 0.605208\n",
            "[7]\tvalid_0's multi_logloss: 0.567885\n",
            "[8]\tvalid_0's multi_logloss: 0.542413\n",
            "[9]\tvalid_0's multi_logloss: 0.507145\n",
            "[10]\tvalid_0's multi_logloss: 0.479013\n",
            "Test  Accuracy: 0.91\n",
            "Train Accuracy: 1.00\n"
          ]
        }
      ]
    },
    {
      "cell_type": "code",
      "metadata": {
        "id": "z3KU9iEGMFLg"
      },
      "source": [
        "from sklearn.model_selection import StratifiedShuffleSplit\n",
        "\n",
        "\n",
        "X_train, X_test, Y_train, Y_test = train_test_split(breast_cancer.data, breast_cancer.target)\n",
        "\n",
        "train_dataset = lgb.Dataset(X_train, Y_train, feature_name=breast_cancer.feature_names.tolist())\n",
        "test_dataset = lgb.Dataset(X_test, Y_test, feature_name=breast_cancer.feature_names.tolist())\n",
        "\n",
        "lgb.cv({\"objective\": \"binary\", \"verbosity\": -1},\n",
        "       train_set=test_dataset, num_boost_round=10,\n",
        "       nfold=5, stratified=True, shuffle=True,\n",
        "       verbose_eval=True)\n",
        "\n",
        "cv_output = lgb.cv({\"objective\": \"binary\", \"verbosity\": -1},\n",
        "                   train_set=test_dataset, num_boost_round=10,\n",
        "                   metrics=[\"auc\", \"average_precision\"],\n",
        "                   folds=StratifiedShuffleSplit(n_splits=3),\n",
        "                   verbose_eval=True,\n",
        "                   return_cvbooster=True)\n",
        "\n",
        "for key, val in cv_output.items():\n",
        "    print(\"\\n\" + key, \" : \", val)"
      ],
      "execution_count": null,
      "outputs": []
    },
    {
      "cell_type": "code",
      "metadata": {
        "colab": {
          "base_uri": "https://localhost:8080/",
          "height": 422
        },
        "id": "y3LdO-7hMWKy",
        "outputId": "eb20c8d8-4538-40aa-b7a6-217f9f1e6145"
      },
      "source": [
        "lgb.plot_importance(booster, figsize=(8,6))"
      ],
      "execution_count": 66,
      "outputs": [
        {
          "output_type": "execute_result",
          "data": {
            "text/plain": [
              "<matplotlib.axes._subplots.AxesSubplot at 0x7f87b6377190>"
            ]
          },
          "metadata": {},
          "execution_count": 66
        },
        {
          "output_type": "display_data",
          "data": {
            "image/png": "[encoded data removed]",
            "text/plain": [
              "<Figure size 576x432 with 1 Axes>"
            ]
          },
          "metadata": {
            "needs_background": "light"
          }
        }
      ]
    },
    {
      "cell_type": "code",
      "metadata": {
        "colab": {
          "base_uri": "https://localhost:8080/",
          "height": 377
        },
        "id": "tO5XjNCqRHKL",
        "outputId": "f1661cd2-e816-4af5-ec4b-a2a1c7e3de27"
      },
      "source": [
        "# explore lightgbm number of trees effect on performance\n",
        "from numpy import mean\n",
        "from numpy import std\n",
        "from sklearn.datasets import make_classification\n",
        "from sklearn.model_selection import cross_val_score\n",
        "from sklearn.model_selection import RepeatedStratifiedKFold\n",
        "from lightgbm import LGBMClassifier\n",
        "from matplotlib import pyplot\n",
        "\n",
        "# get the dataset\n",
        "def get_dataset():\n",
        "  X, y = make_classification(n_samples=1000, n_features=20, n_informative=15, n_redundant=5, random_state=7)\n",
        "  return X, y\n",
        "\n",
        "# get a list of models to evaluate\n",
        "def get_models():\n",
        "  models = dict()\n",
        "  trees = [10, 50, 100, 500, 1000, 5000]\n",
        "  for n in trees:\n",
        "    models[str(n)] = LGBMClassifier(n_estimators=n)\n",
        "  return models\n",
        "\n",
        "# evaluate a give model using cross-validation\n",
        "def evaluate_model(model):\n",
        "  cv = RepeatedStratifiedKFold(n_splits=10, n_repeats=3, random_state=1)\n",
        "  scores = cross_val_score(model, X, y, scoring='accuracy', cv=cv, n_jobs=-1)\n",
        "  return scores\n",
        "\n",
        "# define dataset\n",
        "X, y = get_dataset()\n",
        "# get the models to evaluate\n",
        "models = get_models()\n",
        "# evaluate the models and store results\n",
        "results, names = list(), list()\n",
        "for name, model in models.items():\n",
        "  scores = evaluate_model(model)\n",
        "  results.append(scores)\n",
        "  names.append(name)\n",
        "  print('>%s %.3f (%.3f)' % (name, mean(scores), std(scores)))\n",
        "# plot model performance for comparison\n",
        "pyplot.boxplot(results, labels=names, showmeans=True)\n",
        "pyplot.show()"
      ],
      "execution_count": 71,
      "outputs": [
        {
          "output_type": "stream",
          "name": "stdout",
          "text": [
            ">10 0.857 (0.033)\n",
            ">50 0.916 (0.032)\n",
            ">100 0.925 (0.031)\n",
            ">500 0.938 (0.026)\n",
            ">1000 0.938 (0.028)\n",
            ">5000 0.937 (0.028)\n"
          ]
        },
        {
          "output_type": "display_data",
          "data": {
            "image/png": "[encoded data removed]",
            "text/plain": [
              "<Figure size 432x288 with 1 Axes>"
            ]
          },
          "metadata": {
            "needs_background": "light"
          }
        }
      ]
    },
    {
      "cell_type": "markdown",
      "metadata": {
        "id": "UDe054OdUDeF"
      },
      "source": [
        "# 3. CatBoost"
      ]
    },
    {
      "cell_type": "code",
      "metadata": {
        "colab": {
          "base_uri": "https://localhost:8080/"
        },
        "id": "pPMOoY-mUHvO",
        "outputId": "311a46a1-9c68-4222-c0e4-f6936a90db76"
      },
      "source": [
        "!pip install catboost\n",
        "from catboost import CatBoostRegressor\n",
        "# Initialize data\n",
        "\n",
        "train_data = [[1, 4, 5, 6],\n",
        "              [4, 5, 6, 7],\n",
        "              [30, 40, 50, 60]]\n",
        "\n",
        "eval_data = [[2, 4, 6, 8],\n",
        "             [1, 4, 50, 60]]\n",
        "\n",
        "train_labels = [10, 20, 30]\n",
        "# Initialize CatBoostRegressor\n",
        "model = CatBoostRegressor(iterations=2,\n",
        "                          learning_rate=1,\n",
        "                          depth=2)\n",
        "# Fit model\n",
        "model.fit(train_data, train_labels)\n",
        "# Get predictions\n",
        "preds = model.predict(eval_data)"
      ],
      "execution_count": 73,
      "outputs": [
        {
          "output_type": "stream",
          "name": "stdout",
          "text": [
            "Collecting catboost\n",
            "  Downloading catboost-1.0.0-cp37-none-manylinux1_x86_64.whl (76.4 MB)\n",
            "\u001b[K     |████████████████████████████████| 76.4 MB 36 kB/s \n",
            "\u001b[?25hRequirement already satisfied: graphviz in /usr/local/lib/python3.7/dist-packages (from catboost) (0.10.1)\n",
            "Requirement already satisfied: numpy>=1.16.0 in /usr/local/lib/python3.7/dist-packages (from catboost) (1.19.5)\n",
            "Requirement already satisfied: scipy in /usr/local/lib/python3.7/dist-packages (from catboost) (1.4.1)\n",
            "Requirement already satisfied: pandas>=0.24.0 in /usr/local/lib/python3.7/dist-packages (from catboost) (1.1.5)\n",
            "Requirement already satisfied: matplotlib in /usr/local/lib/python3.7/dist-packages (from catboost) (3.2.2)\n",
            "Requirement already satisfied: six in /usr/local/lib/python3.7/dist-packages (from catboost) (1.15.0)\n",
            "Requirement already satisfied: plotly in /usr/local/lib/python3.7/dist-packages (from catboost) (4.4.1)\n",
            "Requirement already satisfied: pytz>=2017.2 in /usr/local/lib/python3.7/dist-packages (from pandas>=0.24.0->catboost) (2018.9)\n",
            "Requirement already satisfied: python-dateutil>=2.7.3 in /usr/local/lib/python3.7/dist-packages (from pandas>=0.24.0->catboost) (2.8.2)\n",
            "Requirement already satisfied: pyparsing!=2.0.4,!=2.1.2,!=2.1.6,>=2.0.1 in /usr/local/lib/python3.7/dist-packages (from matplotlib->catboost) (2.4.7)\n",
            "Requirement already satisfied: kiwisolver>=1.0.1 in /usr/local/lib/python3.7/dist-packages (from matplotlib->catboost) (1.3.2)\n",
            "Requirement already satisfied: cycler>=0.10 in /usr/local/lib/python3.7/dist-packages (from matplotlib->catboost) (0.10.0)\n",
            "Requirement already satisfied: retrying>=1.3.3 in /usr/local/lib/python3.7/dist-packages (from plotly->catboost) (1.3.3)\n",
            "Installing collected packages: catboost\n",
            "Successfully installed catboost-1.0.0\n",
            "0:\tlearn: 6.1237244\ttotal: 46.3ms\tremaining: 46.3ms\n",
            "1:\tlearn: 4.5927933\ttotal: 47.1ms\tremaining: 0us\n"
          ]
        }
      ]
    },
    {
      "cell_type": "code",
      "metadata": {
        "colab": {
          "base_uri": "https://localhost:8080/"
        },
        "id": "ynrFqUKDUjBS",
        "outputId": "555917ab-2321-454b-f632-f8eb45a014c5"
      },
      "source": [
        "print(preds)"
      ],
      "execution_count": 74,
      "outputs": [
        {
          "output_type": "stream",
          "name": "stdout",
          "text": [
            "[15.625 18.125]\n"
          ]
        }
      ]
    },
    {
      "cell_type": "code",
      "metadata": {
        "colab": {
          "base_uri": "https://localhost:8080/"
        },
        "id": "742k9KugUt2x",
        "outputId": "bf6de96d-b0fb-4157-a699-59eba4cd52c9"
      },
      "source": [
        "from catboost import Pool, CatBoostClassifier\n",
        "\n",
        "train_data = [[\"summer\", 1924, 44],\n",
        "              [\"summer\", 1932, 37],\n",
        "              [\"winter\", 1980, 37],\n",
        "              [\"summer\", 2012, 204]]\n",
        "\n",
        "eval_data = [[\"winter\", 1996, 197],\n",
        "             [\"winter\", 1968, 37],\n",
        "             [\"summer\", 2002, 77],\n",
        "             [\"summer\", 1948, 59]]\n",
        "\n",
        "cat_features = [0]\n",
        "\n",
        "train_label = [\"France\", \"USA\", \"USA\", \"UK\"]\n",
        "eval_label = [\"USA\", \"France\", \"USA\", \"UK\"]\n",
        "\n",
        "\n",
        "train_dataset = Pool(data=train_data,\n",
        "                     label=train_label,\n",
        "                     cat_features=cat_features)\n",
        "\n",
        "eval_dataset = Pool(data=eval_data,\n",
        "                    label=eval_label,\n",
        "                    cat_features=cat_features)\n",
        "\n",
        "# Initialize CatBoostClassifier\n",
        "model = CatBoostClassifier(iterations=10,\n",
        "                           learning_rate=1,\n",
        "                           depth=2,\n",
        "                           loss_function='MultiClass')\n",
        "# Fit model\n",
        "model.fit(train_dataset)\n",
        "# Get predicted classes\n",
        "preds_class = model.predict(eval_dataset)\n",
        "# Get predicted probabilities for each class\n",
        "preds_proba = model.predict_proba(eval_dataset)\n",
        "# Get predicted RawFormulaVal\n",
        "preds_raw = model.predict(eval_dataset,\n",
        "                          prediction_type='RawFormulaVal')"
      ],
      "execution_count": 75,
      "outputs": [
        {
          "output_type": "stream",
          "name": "stdout",
          "text": [
            "0:\tlearn: 0.9417331\ttotal: 284us\tremaining: 2.56ms\n",
            "1:\tlearn: 0.8421839\ttotal: 424us\tremaining: 1.7ms\n",
            "2:\tlearn: 0.6597822\ttotal: 521us\tremaining: 1.22ms\n",
            "3:\tlearn: 0.6028493\ttotal: 614us\tremaining: 921us\n",
            "4:\tlearn: 0.4900112\ttotal: 766us\tremaining: 766us\n",
            "5:\tlearn: 0.4076408\ttotal: 857us\tremaining: 571us\n",
            "6:\tlearn: 0.3458205\ttotal: 947us\tremaining: 405us\n",
            "7:\tlearn: 0.2982687\ttotal: 1.04ms\tremaining: 259us\n",
            "8:\tlearn: 0.2608927\ttotal: 1.14ms\tremaining: 126us\n",
            "9:\tlearn: 0.2309514\ttotal: 1.42ms\tremaining: 0us\n"
          ]
        }
      ]
    },
    {
      "cell_type": "code",
      "metadata": {
        "colab": {
          "base_uri": "https://localhost:8080/"
        },
        "id": "sz_9vwZtU2be",
        "outputId": "b4fe9307-90cd-4f17-a98c-bd453d2ec293"
      },
      "source": [
        "print(preds_class)"
      ],
      "execution_count": 76,
      "outputs": [
        {
          "output_type": "stream",
          "name": "stdout",
          "text": [
            "[['USA']\n",
            " ['USA']\n",
            " ['UK']\n",
            " ['USA']]\n"
          ]
        }
      ]
    },
    {
      "cell_type": "code",
      "metadata": {
        "colab": {
          "base_uri": "https://localhost:8080/"
        },
        "id": "xdidFeVSaYfq",
        "outputId": "f91bd14d-1274-4cf7-f673-1bce03c8c878"
      },
      "source": [
        "print(preds_raw)"
      ],
      "execution_count": 78,
      "outputs": [
        {
          "output_type": "stream",
          "name": "stdout",
          "text": [
            "[[-0.43157053 -0.07602515  0.50759567]\n",
            " [-0.75475564 -0.95110009  1.70585572]\n",
            " [-0.15318701  0.36823989 -0.21505288]\n",
            " [-0.04081236 -0.7956756   0.83648797]]\n"
          ]
        }
      ]
    }
  ]
}